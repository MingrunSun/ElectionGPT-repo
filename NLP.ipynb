{
 "cells": [
  {
   "cell_type": "code",
   "execution_count": 1,
   "metadata": {},
   "outputs": [],
   "source": [
    "import pandas as pd\n",
    "import json"
   ]
  },
  {
   "cell_type": "code",
   "execution_count": 20,
   "metadata": {},
   "outputs": [],
   "source": [
    "import string\n",
    "import nltk\n",
    "import ssl\n",
    "from nltk.corpus import stopwords\n",
    "from nltk.tokenize import word_tokenize\n",
    "from nltk.stem import WordNetLemmatizer"
   ]
  },
  {
   "cell_type": "code",
   "execution_count": 8,
   "metadata": {},
   "outputs": [],
   "source": [
    "from sklearn.feature_extraction.text import TfidfVectorizer\n",
    "from vaderSentiment.vaderSentiment import SentimentIntensityAnalyzer\n",
    "from sklearn.decomposition import LatentDirichletAllocation"
   ]
  },
  {
   "cell_type": "code",
   "execution_count": 3,
   "metadata": {},
   "outputs": [],
   "source": [
    "with open('/Users/sunmingrun/Documents/GitHub/KamalaGPT/extracted_summaries.json', 'r') as f:\n",
    "    data = json.load(f)"
   ]
  },
  {
   "cell_type": "code",
   "execution_count": 4,
   "metadata": {},
   "outputs": [],
   "source": [
    "def to_lowercase(text):\n",
    "    return text.lower()\n",
    "\n",
    "def remove_punctuation(text):\n",
    "    return text.translate(str.maketrans('', '', string.punctuation))\n",
    "\n",
    "def remove_stopwords(text):\n",
    "    stop_words = set(stopwords.words('english'))\n",
    "    return ' '.join([word for word in text.split() if word not in stop_words])\n",
    "\n",
    "def lemmatize_words(text):\n",
    "    lemmatizer = WordNetLemmatizer()\n",
    "    return ' '.join([lemmatizer.lemmatize(word) for word in text.split()])\n",
    "\n",
    "# Combine all preprocessing steps\n",
    "def preprocess_text(text):\n",
    "    text = to_lowercase(text)\n",
    "    text = remove_punctuation(text)\n",
    "    text = remove_stopwords(text)\n",
    "    text = lemmatize_words(text)\n",
    "    return text\n"
   ]
  },
  {
   "cell_type": "code",
   "execution_count": 22,
   "metadata": {},
   "outputs": [
    {
     "name": "stdout",
     "output_type": "stream",
     "text": [
      "                                               summary\n",
      "0    Kamala Harris' campaign team is reportedly vet...\n",
      "1    Vice President Kamala Harris' list of potentia...\n",
      "2    Kamala Harris is currently vetting three poten...\n",
      "3    Vice President Kamala Harris has defended Pres...\n",
      "4    Pennsylvania Gov. Josh Shapiro is being consid...\n",
      "..                                                 ...\n",
      "665  Former White House press secretary, Sean Spice...\n",
      "666                                                   \n",
      "667  The Kamala Harris campaign has provided a pote...\n",
      "668  Vice President Kamala Harris is expected to re...\n",
      "669  Vice President Kamala Harris is reportedly pla...\n",
      "\n",
      "[670 rows x 1 columns]\n"
     ]
    }
   ],
   "source": [
    "df = pd.DataFrame(data, columns=[\"summary\"])\n",
    "print(df)\n"
   ]
  },
  {
   "cell_type": "code",
   "execution_count": 23,
   "metadata": {},
   "outputs": [
    {
     "name": "stdout",
     "output_type": "stream",
     "text": [
      "0    kamala harris campaign team reportedly vetting...\n",
      "1    vice president kamala harris list potential ru...\n",
      "2    kamala harris currently vetting three potentia...\n",
      "3    vice president kamala harris defended presiden...\n",
      "4    pennsylvania gov josh shapiro considered poten...\n",
      "Name: cleaned_summaries, dtype: object\n"
     ]
    }
   ],
   "source": [
    "df['cleaned_summaries'] = df['summary'].apply(preprocess_text)\n",
    "\n",
    "# View the cleaned summaries\n",
    "print(df['cleaned_summaries'].head())\n",
    "df.to_csv('/Users/sunmingrun/Documents/GitHub/ElectionGPT-repo/cleaned_summary.csv', index=False)\n"
   ]
  },
  {
   "cell_type": "code",
   "execution_count": 10,
   "metadata": {},
   "outputs": [],
   "source": [
    "# TF-IDF Vectorization\n",
    "vectorizer = TfidfVectorizer()\n",
    "tfidf_matrix = vectorizer.fit_transform(df['cleaned_summaries'])\n",
    "\n"
   ]
  },
  {
   "cell_type": "code",
   "execution_count": 11,
   "metadata": {},
   "outputs": [],
   "source": [
    "# Calculate Relevance Score\n",
    "df['relevance_score'] = tfidf_matrix.sum(axis=1)\n",
    "\n"
   ]
  },
  {
   "cell_type": "code",
   "execution_count": 16,
   "metadata": {},
   "outputs": [
    {
     "name": "stdout",
     "output_type": "stream",
     "text": [
      "                                               summary  \\\n",
      "0    Kamala Harris' campaign team is reportedly vet...   \n",
      "1    Vice President Kamala Harris' list of potentia...   \n",
      "2    Kamala Harris is currently vetting three poten...   \n",
      "3    Vice President Kamala Harris has defended Pres...   \n",
      "4    Pennsylvania Gov. Josh Shapiro is being consid...   \n",
      "..                                                 ...   \n",
      "665  Former White House press secretary, Sean Spice...   \n",
      "666                                                      \n",
      "667  The Kamala Harris campaign has provided a pote...   \n",
      "668  Vice President Kamala Harris is expected to re...   \n",
      "669  Vice President Kamala Harris is reportedly pla...   \n",
      "\n",
      "                                     cleaned_summaries  relevance_score  \\\n",
      "0    kamala harris campaign team reportedly vetting...         7.662068   \n",
      "1    vice president kamala harris list potential ru...         6.457972   \n",
      "2    kamala harris currently vetting three potentia...         7.233046   \n",
      "3    vice president kamala harris defended presiden...         8.448313   \n",
      "4    pennsylvania gov josh shapiro considered poten...         5.541658   \n",
      "..                                                 ...              ...   \n",
      "665  former white house press secretary sean spicer...         5.374274   \n",
      "666                                                            0.000000   \n",
      "667  kamala harris campaign provided potential clue...         8.202428   \n",
      "668  vice president kamala harris expected reveal r...         6.339412   \n",
      "669  vice president kamala harris reportedly planni...         6.910247   \n",
      "\n",
      "     sentiment  \n",
      "0       0.7906  \n",
      "1       0.5106  \n",
      "2       0.8625  \n",
      "3      -0.3863  \n",
      "4       0.7096  \n",
      "..         ...  \n",
      "665     0.2500  \n",
      "666     0.0000  \n",
      "667    -0.7096  \n",
      "668     0.1027  \n",
      "669     0.3182  \n",
      "\n",
      "[670 rows x 4 columns]\n"
     ]
    }
   ],
   "source": [
    "# Sentiment Analysis\n",
    "analyzer = SentimentIntensityAnalyzer()\n",
    "df['sentiment'] = df['cleaned_summaries'].apply(lambda x: analyzer.polarity_scores(x)['compound'])\n",
    "print(df)\n"
   ]
  },
  {
   "cell_type": "code",
   "execution_count": 17,
   "metadata": {},
   "outputs": [
    {
     "name": "stdout",
     "output_type": "stream",
     "text": [
      "                                             summary  \\\n",
      "0  Kamala Harris' campaign team is reportedly vet...   \n",
      "1  Vice President Kamala Harris' list of potentia...   \n",
      "2  Kamala Harris is currently vetting three poten...   \n",
      "3  Vice President Kamala Harris has defended Pres...   \n",
      "4  Pennsylvania Gov. Josh Shapiro is being consid...   \n",
      "\n",
      "                                   cleaned_summaries  relevance_score  \\\n",
      "0  kamala harris campaign team reportedly vetting...         7.662068   \n",
      "1  vice president kamala harris list potential ru...         6.457972   \n",
      "2  kamala harris currently vetting three potentia...         7.233046   \n",
      "3  vice president kamala harris defended presiden...         8.448313   \n",
      "4  pennsylvania gov josh shapiro considered poten...         5.541658   \n",
      "\n",
      "   sentiment   Topic_1   Topic_2   Topic_3   Topic_4   Topic_5  \n",
      "0     0.7906  0.023295  0.906983  0.023182  0.023184  0.023356  \n",
      "1     0.5106  0.027173  0.027013  0.027084  0.026940  0.891790  \n",
      "2     0.8625  0.902283  0.024417  0.024405  0.024376  0.024519  \n",
      "3    -0.3863  0.021436  0.914386  0.021445  0.021322  0.021411  \n",
      "4     0.7096  0.876086  0.030956  0.031138  0.030714  0.031106  \n"
     ]
    }
   ],
   "source": [
    "# Topic Modeling\n",
    "topic_distributions = lda.transform(tfidf_matrix)\n",
    "\n",
    "# Create a DataFrame from the topic distributions\n",
    "topic_df = pd.DataFrame(topic_distributions, columns=[f'Topic_{i+1}' for i in range(topic_distributions.shape[1])])\n",
    "\n",
    "# Concatenate the original DataFrame with the topic distribution DataFrame\n",
    "df = pd.concat([df, topic_df], axis=1)\n",
    "\n",
    "# Display the updated DataFrame\n",
    "print(df.head())\n",
    "\n",
    "\n"
   ]
  },
  {
   "cell_type": "code",
   "execution_count": 19,
   "metadata": {},
   "outputs": [
    {
     "name": "stdout",
     "output_type": "stream",
     "text": [
      "                                             summary  \\\n",
      "0  Kamala Harris' campaign team is reportedly vet...   \n",
      "1  Vice President Kamala Harris' list of potentia...   \n",
      "2  Kamala Harris is currently vetting three poten...   \n",
      "3  Vice President Kamala Harris has defended Pres...   \n",
      "4  Pennsylvania Gov. Josh Shapiro is being consid...   \n",
      "\n",
      "                                   cleaned_summaries  relevance_score  \\\n",
      "0  kamala harris campaign team reportedly vetting...         7.662068   \n",
      "1  vice president kamala harris list potential ru...         6.457972   \n",
      "2  kamala harris currently vetting three potentia...         7.233046   \n",
      "3  vice president kamala harris defended presiden...         8.448313   \n",
      "4  pennsylvania gov josh shapiro considered poten...         5.541658   \n",
      "\n",
      "   sentiment   Topic_1   Topic_2   Topic_3   Topic_4   Topic_5  \n",
      "0     0.7906  0.023295  0.906983  0.023182  0.023184  0.023356  \n",
      "1     0.5106  0.027173  0.027013  0.027084  0.026940  0.891790  \n",
      "2     0.8625  0.902283  0.024417  0.024405  0.024376  0.024519  \n",
      "3    -0.3863  0.021436  0.914386  0.021445  0.021322  0.021411  \n",
      "4     0.7096  0.876086  0.030956  0.031138  0.030714  0.031106  \n"
     ]
    }
   ],
   "source": [
    "# Display the first few rows of the resulting DataFrame\n",
    "print(df.head())\n",
    "\n",
    "# Save the result for further analysis\n",
    "df.to_csv('/Users/sunmingrun/Documents/GitHub/ElectionGPT-repo/nlp_analysis_results.csv', index=False)"
   ]
  },
  {
   "cell_type": "code",
   "execution_count": 26,
   "metadata": {},
   "outputs": [
    {
     "name": "stdout",
     "output_type": "stream",
     "text": [
      "['sample', 'sentence', ',', 'showing', 'stop', 'words', 'filtration', '.']\n"
     ]
    }
   ],
   "source": [
    "# Sample text\n",
    "from nltk.corpus import stopwords\n",
    "\n",
    "text = \"This is a sample sentence, showing off the stop words filtration.\"\n",
    "\n",
    "# Tokenize the text\n",
    "words = word_tokenize(text)\n",
    "\n",
    "# Get English stopwords\n",
    "stop_words = set(stopwords.words('english'))\n",
    "\n",
    "# Remove stopwords\n",
    "filtered_words = [word for word in words if word.lower() not in stop_words]\n",
    "\n",
    "print(filtered_words)\n",
    "# Output: ['This', 'sample', 'sentence', ',', 'showing', 'stop', 'words', 'filtration', '.']"
   ]
  }
 ],
 "metadata": {
  "kernelspec": {
   "display_name": "Python 3",
   "language": "python",
   "name": "python3"
  },
  "language_info": {
   "codemirror_mode": {
    "name": "ipython",
    "version": 3
   },
   "file_extension": ".py",
   "mimetype": "text/x-python",
   "name": "python",
   "nbconvert_exporter": "python",
   "pygments_lexer": "ipython3",
   "version": "3.11.1"
  }
 },
 "nbformat": 4,
 "nbformat_minor": 2
}
